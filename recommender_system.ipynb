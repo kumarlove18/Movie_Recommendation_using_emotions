{
 "cells": [
  {
   "cell_type": "code",
   "execution_count": null,
   "metadata": {},
   "outputs": [],
   "source": [
    "# going to use Web Scraping Technique (from IMDB)\n",
    "\n",
    "# Web scraping is a technique used to extract data from websites automatically.\n",
    "# It involves using software or scripts to access web pages,\n",
    "# retrieve the HTML content, and then parse the HTML to extract the desired information.\n",
    "# The extracted data can be saved in a structured format like CSV, JSON, or a database for further analysis or storage."
   ]
  },
  {
   "cell_type": "markdown",
   "metadata": {},
   "source": [
    "emotions used for classification:\n",
    "Drama, Action, Comedy, Crime, Horror"
   ]
  },
  {
   "cell_type": "code",
   "execution_count": null,
   "metadata": {},
   "outputs": [],
   "source": [
    "from bs4 import BeautifulSoup\n",
    "import re\n",
    "import requests"
   ]
  },
  {
   "cell_type": "markdown",
   "metadata": {},
   "source": [
    "imdb urls to map emotions"
   ]
  },
  {
   "cell_type": "code",
   "execution_count": null,
   "metadata": {},
   "outputs": [],
   "source": [
    "urls = {\n",
    "    \"Action\": 'https://www.imdb.com/search/title/?title_type=feature&genres=action',\n",
    "    \"Drama\": 'https://www.imdb.com/search/title/?title_type=feature&genres=drama',\n",
    "    \"Comedy\": 'https://www.imdb.com/search/title/?title_type=feature&genres=comedy',\n",
    "    \"Horror\": 'https://www.imdb.com/search/title/?title_type=feature&genres=horror',\n",
    "    \"Crime\": 'https://www.imdb.com/search/title/?title_type=feature&genres=crime',\n",
    "    \"action\": 'https://www.imdb.com/search/title/?title_type=feature&genres=action',\n",
    "    \"drama\": 'https://www.imdb.com/search/title/?title_type=feature&genres=drama',\n",
    "    \"comedy\": 'https://www.imdb.com/search/title/?title_type=feature&genres=comedy',\n",
    "    \"horror\": 'https://www.imdb.com/search/title/?title_type=feature&genres=horror',\n",
    "    \"crime\": 'https://www.imdb.com/search/title/?title_type=feature&genres=crime'\n",
    "}\n",
    "\n",
    "\n",
    "def main(emotion):\n",
    "    url = urls.get(emotion)\n",
    "    print(\"ok\", url)\n",
    "    if not url:\n",
    "        print(\"Invalid emotion.\")\n",
    "        return []\n",
    "\n",
    "    headers = {\n",
    "    'User-Agent':\n",
    "    'Mozilla/5.0 (Windows NT 10.0; Win64; x64) AppleWebKit/537.36 (KHTML, like Gecko) Chrome/91.0.4472.124 Safari/537.36'\n",
    "    }\n",
    "\n",
    "    try:\n",
    "        response = requests.get(url, headers=headers)\n",
    "        response.raise_for_status()  # Checking if HTTP errors found\n",
    "    except requests.RequestException as e:\n",
    "        print(f\"Error fetching data: {e}\")\n",
    "        return []\n",
    "\n",
    "    soup = BeautifulSoup(response.text, \"lxml\")\n",
    "\n",
    "\n",
    "    # Extracting the movie titles\n",
    "    titles = [a.get_text() for a in soup.find_all('a', href=re.compile(r'/title/tt\\d+/'))]\n",
    "    return titles\n",
    "\n",
    "\n",
    "# Driver Function\n",
    "if __name__ == '__main__':\n",
    "    emotion = input(\"Enter the emotion: \").strip()\n",
    "    movie_titles = main(emotion)\n",
    "\n",
    "    if not movie_titles:\n",
    "        print(\"No titles found.\")\n",
    "    else:\n",
    "        max_titles = 20 if emotion in [\"Drama\", \"drama\", \"Action\", \"action\", \"Comedy\", \"comedy\", \"Horror\", \"horror\", \"Crime\", \"crime\"] else 12\n",
    "        for title in movie_titles[:max_titles]:\n",
    "            print(title)"
   ]
  }
 ],
 "metadata": {
  "kernelspec": {
   "display_name": "Python 3",
   "language": "python",
   "name": "python3"
  },
  "language_info": {
   "codemirror_mode": {
    "name": "ipython",
    "version": 3
   },
   "file_extension": ".py",
   "mimetype": "text/x-python",
   "name": "python",
   "nbconvert_exporter": "python",
   "pygments_lexer": "ipython3",
   "version": "3.10.0"
  }
 },
 "nbformat": 4,
 "nbformat_minor": 2
}
